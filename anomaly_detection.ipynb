{
 "cells": [
  {
   "cell_type": "code",
   "execution_count": null,
   "metadata": {},
   "outputs": [],
   "source": [
    "import pandas as pd\n",
    "import numpy as np\n",
    "from scipy.stats import chi2\n",
    "from matplotlib import patches\n",
    "import matplotlib.pyplot as plt\n",
    "\n",
    "# Import dataset and clean it\n",
    "df1= pd.read_csv('./data/MT_anomaly_detection.csv', sep=\",\", decimal='.' )\n",
    "df1.head()\n",
    "\n",
    "df = df1[['out', 'in','coil', 'state']]\n",
    "df = df.dropna()\n",
    "df = df.to_numpy()"
   ]
  },
  {
   "cell_type": "code",
   "execution_count": null,
   "metadata": {},
   "outputs": [],
   "source": [
    "\n",
    "# Covariance matrix\n",
    "covariance  = np.cov(df , rowvar=False)\n",
    "\n",
    "# Covariance matrix power of -1\n",
    "covariance_pm1 = np.linalg.matrix_power(covariance, -1)\n",
    "\n",
    "# Center point\n",
    "centerpoint = np.mean(df , axis=0)"
   ]
  },
  {
   "cell_type": "code",
   "execution_count": null,
   "metadata": {},
   "outputs": [],
   "source": [
    "distances = []\n",
    "for i, val in enumerate(df):\n",
    "      p1 = val\n",
    "      p2 = centerpoint\n",
    "      distance = (p1-p2).T.dot(covariance_pm1).dot(p1-p2)\n",
    "      distances.append(distance)\n",
    "distances = np.array(distances)\n",
    "\n",
    "# Cutoff (threshold) value from Chi-Sqaure Distribution for detecting outliers \n",
    "cutoff = chi2.ppf(0.95, df.shape[1])\n",
    "\n",
    "# Index of outliers\n",
    "outlierIndexes = np.where(distances > cutoff )\n",
    "\n",
    "print('--- Index of Outliers ----')\n",
    "print(outlierIndexes)\n",
    "# array([24, 35, 67, 81])\n",
    "\n",
    "print('--- Observations found as outlier -----')\n",
    "print(df[ distances > cutoff , :])"
   ]
  },
  {
   "cell_type": "code",
   "execution_count": null,
   "metadata": {},
   "outputs": [],
   "source": [
    "## Finding ellipse dimensions \n",
    "pearson = covariance[0, 1]/np.sqrt(covariance[0, 0] * covariance[1, 1])\n",
    "ell_radius_x = np.sqrt(1 + pearson)\n",
    "ell_radius_y = np.sqrt(1 - pearson)\n",
    "lambda_, v = np.linalg.eig(covariance)\n",
    "lambda_ = np.sqrt(lambda_)\n",
    "\n",
    "# Ellipse patch\n",
    "ellipse = patches.Ellipse(xy=(centerpoint[0], centerpoint[1]),\n",
    "                  width=lambda_[0]*np.sqrt(cutoff)*2, height=lambda_[1]*np.sqrt(cutoff)*2,\n",
    "                  angle=np.rad2deg(np.arccos(v[0, 0])), edgecolor='#fab1a0')\n",
    "ellipse.set_facecolor('#0984e3')\n",
    "ellipse.set_alpha(0.5)\n",
    "fig = plt.figure()\n",
    "ax = plt.subplot()\n",
    "ax.add_artist(ellipse)\n",
    "plt.scatter(df1.iloc[: , 0], df1.iloc[ : , 1], c = df1.iloc[ : , 3])\n",
    "plt.colorbar()\n",
    "# plt.scatter(df[outlierIndexes[0] , 0],df[outlierIndexes[1] , 1], color=)\n",
    "plt.show()"
   ]
  },
  {
   "cell_type": "code",
   "execution_count": null,
   "metadata": {},
   "outputs": [],
   "source": [
    "fig = plt.figure()\n",
    "ax = fig.add_subplot(projection='3d')\n",
    "\n",
    "\n",
    "p = ax.scatter(df1.iloc[: , 0], df1.iloc[ : , 1], df1.iloc[ : , 2],c = df1.iloc[ : , 3])\n",
    "ax.set_xlabel('Ent temp(C)')\n",
    "ax.set_ylabel('Exit temp(C)')\n",
    "ax.set_zlabel('Motor temp(C)')\n",
    "fig.colorbar(p, pad=0.15)\n",
    "plt.show()"
   ]
  }
 ],
 "metadata": {
  "kernelspec": {
   "display_name": "Python 3.10.4 64-bit",
   "language": "python",
   "name": "python3"
  },
  "language_info": {
   "name": "python",
   "version": "3.10.4"
  },
  "orig_nbformat": 4,
  "vscode": {
   "interpreter": {
    "hash": "a2ccce5c8998ca08fe1e1d4b18cce41e522161f2880be4cdb4fc97fb3b8651ac"
   }
  }
 },
 "nbformat": 4,
 "nbformat_minor": 2
}
